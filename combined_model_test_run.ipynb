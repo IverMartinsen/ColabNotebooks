{
  "nbformat": 4,
  "nbformat_minor": 0,
  "metadata": {
    "colab": {
      "name": "combined_model_test_run.ipynb",
      "provenance": [],
      "collapsed_sections": [],
      "mount_file_id": "1LP63ak8vhdwS5580kEVXd-I0hEv3qUYa",
      "authorship_tag": "ABX9TyO9dYibNdyvX+cS83t+jS/X",
      "include_colab_link": true
    },
    "kernelspec": {
      "display_name": "Python 3 (ipykernel)",
      "language": "python",
      "name": "python3"
    },
    "language_info": {
      "codemirror_mode": {
        "name": "ipython",
        "version": 3
      },
      "file_extension": ".py",
      "mimetype": "text/x-python",
      "name": "python",
      "nbconvert_exporter": "python",
      "pygments_lexer": "ipython3",
      "version": "3.8.10"
    }
  },
  "cells": [
    {
      "cell_type": "markdown",
      "metadata": {
        "id": "view-in-github",
        "colab_type": "text"
      },
      "source": [
        "<a href=\"https://colab.research.google.com/github/IverMartinsen/ColabNotebooks/blob/main/combined_model_test_run.ipynb\" target=\"_parent\"><img src=\"https://colab.research.google.com/assets/colab-badge.svg\" alt=\"Open In Colab\"/></a>"
      ]
    },
    {
      "cell_type": "markdown",
      "metadata": {
        "id": "7xQKXcr-WpUR"
      },
      "source": [
        "Import modules"
      ]
    },
    {
      "cell_type": "code",
      "metadata": {
        "id": "PSpD5OSCrKTZ"
      },
      "source": [
        "import sys\n",
        "\n",
        "sys.path.append('/content/drive/Othercomputers/Min bærbare datamaskin/UiT/src/Python')\n",
        "\n",
        "import pandas as pd\n",
        "import tensorflow as tf\n",
        "import numpy as np\n",
        "from modules.stratified_idxs import stratified_idxs\n",
        "from modules.losses import MeanSquaredErrorKLD\n",
        "from scipy.optimize import minimize"
      ],
      "execution_count": null,
      "outputs": []
    },
    {
      "cell_type": "markdown",
      "metadata": {
        "id": "PRL778d0X9-4"
      },
      "source": [
        "Load features, i.e. age, sex and length"
      ]
    },
    {
      "cell_type": "code",
      "metadata": {
        "id": "h8-XeTupr-Jc"
      },
      "source": [
        "# Load dataframe of features\n",
        "df = pd.read_csv('/content/drive/Othercomputers/Min bærbare datamaskin/UiT/Data/Grønlandskveiteotolitter/dataframe.csv')\n",
        "\n",
        "# Locate data points with complete set of features\n",
        "notna = np.all(np.array(df.notna()), axis = 1)\n",
        "\n",
        "# Drop data with incomplete set of features\n",
        "df = df.dropna()"
      ],
      "execution_count": null,
      "outputs": []
    },
    {
      "cell_type": "markdown",
      "metadata": {
        "id": "Du3wHKN-ZAh3"
      },
      "source": [
        "Load images"
      ]
    },
    {
      "cell_type": "code",
      "metadata": {
        "id": "O110AQ2_ZBvs"
      },
      "source": [
        "# Set constants\n",
        "image_size = (128, 128)\n",
        "\n",
        "file_path = '/content/drive/Othercomputers/Min bærbare datamaskin/UiT/Data/Grønlandskveiteotolitter/greenland_halibut_std'\n",
        "\n",
        "# Load images from directory in alphabetical order\n",
        "dataset = tf.keras.utils.image_dataset_from_directory(\n",
        "    file_path,\n",
        "    labels=None,\n",
        "    image_size=image_size,\n",
        "    shuffle=False)\n",
        "\n",
        "# Stack images into numpy array\n",
        "# Only use images with complete corresponding features\n",
        "images = np.stack(list(dataset.unbatch().as_numpy_iterator()))[notna]"
      ],
      "execution_count": null,
      "outputs": []
    },
    {
      "cell_type": "markdown",
      "metadata": {
        "id": "Syg_q8s3mgHl"
      },
      "source": [
        "Create subsets for training, validation and testing"
      ]
    },
    {
      "cell_type": "code",
      "metadata": {
        "id": "54XSqpHBYx6L"
      },
      "source": [
        "# Create stratified indices for selecting datasets for training etc.\n",
        "train_idx, valid_idx, test_idx = stratified_idxs(df['age'], (0.6, 0.2, 0.2), seed=123)\n",
        "\n",
        "# Create utility function for creating datasets compatible with tensorflow\n",
        "set_from_idx = lambda idx : (tf.convert_to_tensor(df['sex'].iloc[idx]), images[idx])\n",
        "\n",
        "# Create stratified subsets for training, validation and testing\n",
        "x_tr = set_from_idx(train_idx)\n",
        "x_va = set_from_idx(valid_idx)\n",
        "x_te = set_from_idx(test_idx)\n",
        "\n",
        "y_tr = df['age'].iloc[train_idx]\n",
        "y_va = df['age'].iloc[valid_idx]\n",
        "y_te = df['age'].iloc[test_idx]\n",
        "\n",
        "f_tr = df['filename'].iloc[train_idx]\n",
        "f_va = df['filename'].iloc[valid_idx]\n",
        "f_te = df['filename'].iloc[test_idx]"
      ],
      "execution_count": null,
      "outputs": []
    },
    {
      "cell_type": "markdown",
      "metadata": {
        "id": "JS-O4LUIoAya"
      },
      "source": [
        "Define model"
      ]
    },
    {
      "cell_type": "code",
      "metadata": {
        "id": "kFcyodGBCcwV"
      },
      "source": [
        "# Create layer for mapping categorical labels to int\n",
        "Index = tf.keras.layers.StringLookup()\n",
        "# Fit index layer on training data\n",
        "Index.adapt(tf.constant(x_tr[0]))\n",
        "\n",
        "# Create layer for one-hot-encoding the categorical labels\n",
        "Encoding = tf.keras.layers.CategoryEncoding(num_tokens=Index.vocabulary_size(), output_mode='one_hot')\n",
        "\n",
        "# Define pretrained base model without classification head. Use global average pooling on output.\n",
        "base_model = tf.keras.applications.Xception(\n",
        "    input_shape=image_size + (3, ), \n",
        "    include_top=False,\n",
        "    pooling='avg')\n",
        "\n",
        "# Define full model. Note that by setting training=False in the base model\n",
        "# we always run the model in inference mode. \n",
        "img_input = tf.keras.layers.Input(image_size + (3, ))\n",
        "cat_input = tf.keras.Input(shape=(1,), name='gender', dtype='string')\n",
        "\n",
        "gender = Encoding(Index(cat_input))\n",
        "\n",
        "# First we process the images\n",
        "x = tf.keras.applications.xception.preprocess_input(img_input)\n",
        "x = tf.keras.layers.RandomTranslation(0, 0.1)(x)\n",
        "x = tf.keras.layers.RandomRotation(0.1, fill_mode='constant')(x)\n",
        "x = base_model(x, training=False)\n",
        "x = tf.keras.layers.Dropout(0.2)(x)\n",
        "x = tf.keras.layers.Dense(3, 'relu')(x)\n",
        "# Then we us multiplication to get the gender conditional age predictions \n",
        "outputs = tf.keras.layers.Dot(axes=1)([x, gender])\n",
        "# Finally we concatenate the age prediction with the one-hot sex matrix\n",
        "model = tf.keras.models.Model([cat_input, img_input], tf.keras.layers.Concatenate()([outputs, gender]))"
      ],
      "execution_count": null,
      "outputs": []
    },
    {
      "cell_type": "markdown",
      "metadata": {
        "id": "eGi4bptbqrj0"
      },
      "source": [
        "Compile and fit model"
      ]
    },
    {
      "cell_type": "code",
      "metadata": {
        "id": "b_SJvLBoH_pM"
      },
      "source": [
        "# Compile model using custom loss function\n",
        "cnn.compile(tf.keras.optimizers.Adam(1e-3), MeanSquaredErrorKLD())\n",
        "\n",
        "# Apply early stopping\n",
        "callbacks = tf.keras.callbacks.EarlyStopping(patience=20, restore_best_weights=True)\n",
        "\n",
        "# Fit model\n",
        "cnn.fit(\n",
        "    x_tr,\n",
        "    y_tr,\n",
        "    batch_size=32,\n",
        "    epochs=100,\n",
        "    validation_data=(x_va, y_va),\n",
        "    callbacks = callbacks\n",
        "    )"
      ],
      "execution_count": null,
      "outputs": []
    },
    {
      "cell_type": "markdown",
      "metadata": {
        "id": "Yuh-wccnrPwK"
      },
      "source": [
        "Predict age by length"
      ]
    },
    {
      "cell_type": "code",
      "metadata": {
        "id": "4kfdRL4LrUuS"
      },
      "source": [
        "# Define loss function to be minimized as function of parameters\n",
        "loss_by_length = lambda params: tf.reduce_mean(\n",
        "    (y_tr - params[0] + tf.math.log(1 - df['length'].iloc[train_idx]/params[1])/params[2])**2).numpy()\n",
        "\n",
        "# Find optimal set of parameters\n",
        "params = minimize(loss_by_length, (1, 10000, 1)).x\n",
        "\n",
        "# Define function that takes length as input and returns age\n",
        "age_by_length = lambda params: (lambda length: params[0] - tf.math.log(1 - length/params[1])/params[2])\n",
        "\n",
        "# Predict age by length of test set\n",
        "y_hat2 = age_by_length(params)(df['length'].iloc[test_idx])"
      ],
      "execution_count": null,
      "outputs": []
    }
  ]
}